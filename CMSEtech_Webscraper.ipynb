{
 "cells": [
  {
   "cell_type": "markdown",
   "id": "836a21c7",
   "metadata": {},
   "source": [
    "## CMSEtech Webscraper"
   ]
  },
  {
   "cell_type": "markdown",
   "id": "7e00a4f3",
   "metadata": {},
   "source": [
    "#### Designed to scrape MSU class information and be stored in a Google Spreadsheet"
   ]
  },
  {
   "cell_type": "code",
   "execution_count": null,
   "id": "1dd513b2",
   "metadata": {},
   "outputs": [],
   "source": []
  }
 ],
 "metadata": {
  "kernelspec": {
   "display_name": "Python 3",
   "language": "python",
   "name": "python3"
  },
  "language_info": {
   "codemirror_mode": {
    "name": "ipython",
    "version": 3
   },
   "file_extension": ".py",
   "mimetype": "text/x-python",
   "name": "python",
   "nbconvert_exporter": "python",
   "pygments_lexer": "ipython3",
   "version": "3.8.8"
  }
 },
 "nbformat": 4,
 "nbformat_minor": 5
}
